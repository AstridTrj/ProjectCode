{
 "cells": [
  {
   "cell_type": "code",
   "execution_count": 4,
   "metadata": {},
   "outputs": [
    {
     "name": "stdout",
     "output_type": "stream",
     "text": [
      "妈妈 6\n",
      "妈妈我爱你我爱你我爱你我爱你我爱你我爱你"
     ]
    }
   ],
   "source": [
    "inname_n = input()\n",
    "l = inname_n.split(' ')\n",
    "name = l[0]\n",
    "n = int(l[1])\n",
    "print('妈妈', end='')\n",
    "for i in range(n):\n",
    "    print('我爱你', end='')"
   ]
  },
  {
   "cell_type": "code",
   "execution_count": 61,
   "metadata": {},
   "outputs": [
    {
     "name": "stdout",
     "output_type": "stream",
     "text": [
      "7\n",
      " 1  8 14 19 23 26 28 \n",
      " 2  9 15 20 24 27 \n",
      " 3 10 16 21 25 \n",
      " 4 11 17 22 \n",
      " 5 12 18 \n",
      " 6 13 \n",
      " 7 "
     ]
    }
   ],
   "source": [
    "# 7-3 打印特殊三角形\n",
    "n = int(input())\n",
    "triangle = []\n",
    "m = 1\n",
    "for i in range(n):\n",
    "    triangle.append([])\n",
    "for i in range(n):\n",
    "    for j in range(n-i):\n",
    "        triangle[i].append(m)\n",
    "        m = m + 1\n",
    "for i in range(n):\n",
    "    for t in triangle:\n",
    "        if i < len(t):\n",
    "            print(\"{:2}\".format(t[i]), end=' ')\n",
    "    if i != n-1:\n",
    "        print()"
   ]
  },
  {
   "cell_type": "code",
   "execution_count": 64,
   "metadata": {},
   "outputs": [
    {
     "name": "stdout",
     "output_type": "stream",
     "text": [
      "[1,2,[3,4,[5,6],7],8]\n",
      "3\n",
      "]8,]7,]6,5[,4,3[,2,1[\n"
     ]
    }
   ],
   "source": [
    "# 7-5求指定层的元素个数\n",
    "s = input()\n",
    "n = int(input())\n",
    "cnt, index = 0, 0\n",
    "for i in range(len(s)):\n",
    "    if s[i] == '[' and cnt == n - 1:\n",
    "        index = i\n",
    "        break\n",
    "    elif s[i] == '[':\n",
    "        cnt = cnt + 1\n",
    "s_rev = s[::-1]\n",
    "print(s_rev)"
   ]
  },
  {
   "cell_type": "code",
   "execution_count": null,
   "metadata": {},
   "outputs": [],
   "source": [
    "[1,2,[3,4,[5,6],7],8]\n",
    "[1,2,[1,[5,6,[6,[1,[[]]],[]]]]]"
   ]
  }
 ],
 "metadata": {
  "kernelspec": {
   "display_name": "Python 3",
   "language": "python",
   "name": "python3"
  },
  "language_info": {
   "codemirror_mode": {
    "name": "ipython",
    "version": 3
   },
   "file_extension": ".py",
   "mimetype": "text/x-python",
   "name": "python",
   "nbconvert_exporter": "python",
   "pygments_lexer": "ipython3",
   "version": "3.6.4"
  }
 },
 "nbformat": 4,
 "nbformat_minor": 2
}
